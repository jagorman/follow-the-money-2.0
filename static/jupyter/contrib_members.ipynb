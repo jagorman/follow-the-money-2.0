{
 "cells": [
  {
   "cell_type": "code",
   "execution_count": 1,
   "metadata": {},
   "outputs": [],
   "source": [
    "import pandas as pd\n",
    "import requests\n",
    "import json\n",
    "from config import api_key"
   ]
  },
  {
   "cell_type": "code",
   "execution_count": 2,
   "metadata": {},
   "outputs": [],
   "source": [
    "leg1 = pd.read_csv('../../resources/getlegislators_ks.csv')\n",
    "leg2 = pd.read_csv('../../resources/getlegislators_mo.csv')"
   ]
  },
  {
   "cell_type": "code",
   "execution_count": 9,
   "metadata": {},
   "outputs": [],
   "source": [
    "leg_df1 = pd.DataFrame(leg1)\n",
    "leg_df2 = pd.DataFrame(leg2)"
   ]
  },
  {
   "cell_type": "code",
   "execution_count": 25,
   "metadata": {},
   "outputs": [
    {
     "data": {
      "text/plain": [
       "['N00037034',\n",
       " 'N00042126',\n",
       " 'N00042626',\n",
       " 'N00040712',\n",
       " 'N00005285',\n",
       " 'N00005282',\n",
       " 'N00012460',\n",
       " 'N00033106',\n",
       " 'N00030026',\n",
       " 'N00031005',\n",
       " 'N00026790',\n",
       " 'N00013323',\n",
       " 'N00030676',\n",
       " 'N00035282',\n",
       " 'N00005195',\n",
       " 'N00041620']"
      ]
     },
     "execution_count": 25,
     "metadata": {},
     "output_type": "execute_result"
    }
   ],
   "source": [
    "cid_list = leg_df1['cid'].tolist() + leg_df2['cid'].tolist()\n",
    "cid_list"
   ]
  },
  {
   "cell_type": "code",
   "execution_count": 26,
   "metadata": {},
   "outputs": [],
   "source": [
    "response_list = []\n",
    "for i in cid_list:\n",
    "    url = f'https://www.opensecrets.org/api/?method=candContrib&cid={i}&cycle=2020&apikey={api_key}&output=json'\n",
    "    response_list.append(requests.get(url).json())"
   ]
  },
  {
   "cell_type": "code",
   "execution_count": 39,
   "metadata": {},
   "outputs": [
    {
     "data": {
      "text/plain": [
       "'Roger Marshall (R)'"
      ]
     },
     "execution_count": 39,
     "metadata": {},
     "output_type": "execute_result"
    }
   ],
   "source": [
    "response_list[0]['response']['contributors']['@attributes']['cand_name']"
   ]
  },
  {
   "cell_type": "code",
   "execution_count": 42,
   "metadata": {},
   "outputs": [],
   "source": [
    "for i in response_list:\n",
    "    focus = i['response']['contributors']['contributor']\n",
    "    leg_data = {'contributor':[],\n",
    "               'total':[],\n",
    "               'indivs':[]}\n",
    "    for j in focus:\n",
    "        leg_data['contributor'].append(j['@attributes']['org_name'])\n",
    "        leg_data['total'].append(j['@attributes']['total'])\n",
    "        leg_data['indivs'].append(j['@attributes']['indivs'])\n",
    "    save_df = pd.DataFrame(leg_data)\n",
    "    save_df.to_csv(f\"../../resources/zz{i['response']['contributors']['@attributes']['cand_name']}.csv\")"
   ]
  },
  {
   "cell_type": "code",
   "execution_count": null,
   "metadata": {},
   "outputs": [],
   "source": []
  }
 ],
 "metadata": {
  "kernelspec": {
   "display_name": "Python 3",
   "language": "python",
   "name": "python3"
  },
  "language_info": {
   "codemirror_mode": {
    "name": "ipython",
    "version": 3
   },
   "file_extension": ".py",
   "mimetype": "text/x-python",
   "name": "python",
   "nbconvert_exporter": "python",
   "pygments_lexer": "ipython3",
   "version": "3.8.5"
  }
 },
 "nbformat": 4,
 "nbformat_minor": 4
}
