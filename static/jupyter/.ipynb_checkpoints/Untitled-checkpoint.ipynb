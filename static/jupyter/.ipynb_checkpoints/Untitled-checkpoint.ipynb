{
 "cells": [
  {
   "cell_type": "code",
   "execution_count": 66,
   "metadata": {},
   "outputs": [],
   "source": [
    "import pandas as pd\n",
    "import requests\n",
    "import json\n",
    "from config import api_key"
   ]
  },
  {
   "cell_type": "code",
   "execution_count": 67,
   "metadata": {},
   "outputs": [],
   "source": [
    "state = 'KS'\n",
    "url = f'https://www.opensecrets.org/api/?method=getLegislators&id={state}&apikey={api_key}&output=json'"
   ]
  },
  {
   "cell_type": "code",
   "execution_count": 68,
   "metadata": {},
   "outputs": [],
   "source": [
    "response = requests.get(url).json()"
   ]
  },
  {
   "cell_type": "code",
   "execution_count": 69,
   "metadata": {},
   "outputs": [],
   "source": [
    "legislators = response['response']['legislator']\n",
    "leg_dict = {'legislator':[],\n",
    "     'party':[],\n",
    "     'birthdate':[]}"
   ]
  },
  {
   "cell_type": "code",
   "execution_count": 70,
   "metadata": {},
   "outputs": [],
   "source": [
    "for i in legislators:\n",
    "    leg_dict['legislator'].append(i['@attributes']['firstlast'])\n",
    "    leg_dict['party'].append(i['@attributes']['party'])\n",
    "    leg_dict['birthdate'].append(i['@attributes']['birthdate'])"
   ]
  },
  {
   "cell_type": "code",
   "execution_count": 71,
   "metadata": {},
   "outputs": [
    {
     "data": {
      "text/html": [
       "<div>\n",
       "<style scoped>\n",
       "    .dataframe tbody tr th:only-of-type {\n",
       "        vertical-align: middle;\n",
       "    }\n",
       "\n",
       "    .dataframe tbody tr th {\n",
       "        vertical-align: top;\n",
       "    }\n",
       "\n",
       "    .dataframe thead th {\n",
       "        text-align: right;\n",
       "    }\n",
       "</style>\n",
       "<table border=\"1\" class=\"dataframe\">\n",
       "  <thead>\n",
       "    <tr style=\"text-align: right;\">\n",
       "      <th></th>\n",
       "      <th>legislator</th>\n",
       "      <th>party</th>\n",
       "      <th>birthdate</th>\n",
       "    </tr>\n",
       "  </thead>\n",
       "  <tbody>\n",
       "    <tr>\n",
       "      <th>0</th>\n",
       "      <td>Roger Marshall</td>\n",
       "      <td>R</td>\n",
       "      <td>1960-08-09</td>\n",
       "    </tr>\n",
       "    <tr>\n",
       "      <th>1</th>\n",
       "      <td>Steve Watkins</td>\n",
       "      <td>R</td>\n",
       "      <td>1976-09-18</td>\n",
       "    </tr>\n",
       "    <tr>\n",
       "      <th>2</th>\n",
       "      <td>Sharice Davids</td>\n",
       "      <td>D</td>\n",
       "      <td>1980-05-22</td>\n",
       "    </tr>\n",
       "    <tr>\n",
       "      <th>3</th>\n",
       "      <td>Ron Estes</td>\n",
       "      <td>R</td>\n",
       "      <td>1956-07-19</td>\n",
       "    </tr>\n",
       "    <tr>\n",
       "      <th>4</th>\n",
       "      <td>Pat Roberts</td>\n",
       "      <td>R</td>\n",
       "      <td>1936-04-20</td>\n",
       "    </tr>\n",
       "    <tr>\n",
       "      <th>5</th>\n",
       "      <td>Jerry Moran</td>\n",
       "      <td>R</td>\n",
       "      <td>1954-05-29</td>\n",
       "    </tr>\n",
       "  </tbody>\n",
       "</table>\n",
       "</div>"
      ],
      "text/plain": [
       "       legislator party   birthdate\n",
       "0  Roger Marshall     R  1960-08-09\n",
       "1   Steve Watkins     R  1976-09-18\n",
       "2  Sharice Davids     D  1980-05-22\n",
       "3       Ron Estes     R  1956-07-19\n",
       "4     Pat Roberts     R  1936-04-20\n",
       "5     Jerry Moran     R  1954-05-29"
      ]
     },
     "execution_count": 71,
     "metadata": {},
     "output_type": "execute_result"
    }
   ],
   "source": [
    "df = pd.DataFrame(leg_dict)\n",
    "df"
   ]
  },
  {
   "cell_type": "code",
   "execution_count": 72,
   "metadata": {},
   "outputs": [],
   "source": [
    "df.to_csv('../../resources/getlegislators_ks.csv')"
   ]
  },
  {
   "cell_type": "code",
   "execution_count": 77,
   "metadata": {},
   "outputs": [],
   "source": [
    "state = 'MO'\n",
    "url = f'https://www.opensecrets.org/api/?method=getLegislators&id={state}&apikey={api_key}&output=json'\n",
    "response = requests.get(url).json()"
   ]
  },
  {
   "cell_type": "code",
   "execution_count": 78,
   "metadata": {},
   "outputs": [],
   "source": [
    "legislators = response['response']['legislator']\n",
    "leg_dict = {'legislator':[],\n",
    "     'party':[],\n",
    "     'birthdate':[]}"
   ]
  },
  {
   "cell_type": "code",
   "execution_count": 79,
   "metadata": {},
   "outputs": [],
   "source": [
    "for i in legislators:\n",
    "    leg_dict['legislator'].append(i['@attributes']['firstlast'])\n",
    "    leg_dict['party'].append(i['@attributes']['party'])\n",
    "    leg_dict['birthdate'].append(i['@attributes']['birthdate'])"
   ]
  },
  {
   "cell_type": "code",
   "execution_count": 80,
   "metadata": {},
   "outputs": [
    {
     "data": {
      "text/html": [
       "<div>\n",
       "<style scoped>\n",
       "    .dataframe tbody tr th:only-of-type {\n",
       "        vertical-align: middle;\n",
       "    }\n",
       "\n",
       "    .dataframe tbody tr th {\n",
       "        vertical-align: top;\n",
       "    }\n",
       "\n",
       "    .dataframe thead th {\n",
       "        text-align: right;\n",
       "    }\n",
       "</style>\n",
       "<table border=\"1\" class=\"dataframe\">\n",
       "  <thead>\n",
       "    <tr style=\"text-align: right;\">\n",
       "      <th></th>\n",
       "      <th>legislator</th>\n",
       "      <th>party</th>\n",
       "      <th>birthdate</th>\n",
       "    </tr>\n",
       "  </thead>\n",
       "  <tbody>\n",
       "    <tr>\n",
       "      <th>0</th>\n",
       "      <td>William L Clay Jr.</td>\n",
       "      <td>D</td>\n",
       "      <td>1956-07-27</td>\n",
       "    </tr>\n",
       "    <tr>\n",
       "      <th>1</th>\n",
       "      <td>Ann L Wagner</td>\n",
       "      <td>R</td>\n",
       "      <td>1962-09-13</td>\n",
       "    </tr>\n",
       "    <tr>\n",
       "      <th>2</th>\n",
       "      <td>Blaine Luetkemeyer</td>\n",
       "      <td>R</td>\n",
       "      <td>1952-05-07</td>\n",
       "    </tr>\n",
       "    <tr>\n",
       "      <th>3</th>\n",
       "      <td>Vicky Hartzler</td>\n",
       "      <td>R</td>\n",
       "      <td>1960-10-13</td>\n",
       "    </tr>\n",
       "    <tr>\n",
       "      <th>4</th>\n",
       "      <td>Emanuel Cleaver</td>\n",
       "      <td>D</td>\n",
       "      <td>1944-10-26</td>\n",
       "    </tr>\n",
       "    <tr>\n",
       "      <th>5</th>\n",
       "      <td>Sam Graves</td>\n",
       "      <td>R</td>\n",
       "      <td>1963-11-07</td>\n",
       "    </tr>\n",
       "    <tr>\n",
       "      <th>6</th>\n",
       "      <td>Billy Long</td>\n",
       "      <td>R</td>\n",
       "      <td>1955-08-11</td>\n",
       "    </tr>\n",
       "    <tr>\n",
       "      <th>7</th>\n",
       "      <td>Jason Smith</td>\n",
       "      <td>R</td>\n",
       "      <td>1980-06-16</td>\n",
       "    </tr>\n",
       "    <tr>\n",
       "      <th>8</th>\n",
       "      <td>Roy Blunt</td>\n",
       "      <td>R</td>\n",
       "      <td>1950-01-10</td>\n",
       "    </tr>\n",
       "    <tr>\n",
       "      <th>9</th>\n",
       "      <td>Josh Hawley</td>\n",
       "      <td>R</td>\n",
       "      <td>1979-12-31</td>\n",
       "    </tr>\n",
       "  </tbody>\n",
       "</table>\n",
       "</div>"
      ],
      "text/plain": [
       "           legislator party   birthdate\n",
       "0  William L Clay Jr.     D  1956-07-27\n",
       "1        Ann L Wagner     R  1962-09-13\n",
       "2  Blaine Luetkemeyer     R  1952-05-07\n",
       "3      Vicky Hartzler     R  1960-10-13\n",
       "4     Emanuel Cleaver     D  1944-10-26\n",
       "5          Sam Graves     R  1963-11-07\n",
       "6          Billy Long     R  1955-08-11\n",
       "7         Jason Smith     R  1980-06-16\n",
       "8           Roy Blunt     R  1950-01-10\n",
       "9         Josh Hawley     R  1979-12-31"
      ]
     },
     "execution_count": 80,
     "metadata": {},
     "output_type": "execute_result"
    }
   ],
   "source": [
    "df = pd.DataFrame(leg_dict)\n",
    "df"
   ]
  },
  {
   "cell_type": "code",
   "execution_count": 81,
   "metadata": {},
   "outputs": [],
   "source": [
    "df.to_csv('../../resources/getlegislators_mo.csv')"
   ]
  },
  {
   "cell_type": "code",
   "execution_count": null,
   "metadata": {},
   "outputs": [],
   "source": []
  }
 ],
 "metadata": {
  "kernelspec": {
   "display_name": "Python 3",
   "language": "python",
   "name": "python3"
  },
  "language_info": {
   "codemirror_mode": {
    "name": "ipython",
    "version": 3
   },
   "file_extension": ".py",
   "mimetype": "text/x-python",
   "name": "python",
   "nbconvert_exporter": "python",
   "pygments_lexer": "ipython3",
   "version": "3.8.5"
  }
 },
 "nbformat": 4,
 "nbformat_minor": 4
}
