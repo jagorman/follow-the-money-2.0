{
 "cells": [
  {
   "cell_type": "code",
   "execution_count": 2,
   "metadata": {},
   "outputs": [],
   "source": [
    "import pandas as pd"
   ]
  },
  {
   "cell_type": "code",
   "execution_count": 3,
   "metadata": {},
   "outputs": [],
   "source": [
    "ks_leg = pd.read_csv('../../resources/getlegislators_ks.csv')\n",
    "mo_leg = pd.read_csv('../../resources/getlegislators_mo.csv')\n",
    "wagner = pd.read_csv('../../resources/zzAnn L Wagner (R).csv')\n",
    "long = pd.read_csv('../../resources/zzBilly Long (R).csv')\n",
    "luetkemeyer = pd.read_csv('../../resources/zzBlaine Luetkemeyer (R).csv')\n",
    "cleaver = pd.read_csv('../../resources/zzEmanuel Cleaver (D).csv')\n",
    "smith = pd.read_csv('../../resources/zzJason Smith (R).csv')\n",
    "moran = pd.read_csv('../../resources/zzJerry Moran (R).csv')\n",
    "hawley = pd.read_csv('../../resources/zzJosh Hawley (R).csv')\n",
    "roberts = pd.read_csv('../../resources/zzPat Roberts (R).csv')\n",
    "marshall = pd.read_csv('../../resources/zzRoger Marshall (R).csv')\n",
    "estes = pd.read_csv('../../resources/zzRon Estes (R).csv')\n",
    "blunt = pd.read_csv('../../resources/zzRoy Blunt (R).csv')\n",
    "graves = pd.read_csv('../../resources/zzSam Graves (R).csv')\n",
    "davids = pd.read_csv('../../resources/zzSharice Davids (D).csv')\n",
    "watkins = pd.read_csv('../../resources/zzSteve Watkins (R).csv')\n",
    "hartzler = pd.read_csv('../../resources/zzVicky Hartzler (R).csv')\n",
    "clay = pd.read_csv('../../resources/zzWilliam L Clay Jr. (D).csv')"
   ]
  },
  {
   "cell_type": "code",
   "execution_count": 4,
   "metadata": {},
   "outputs": [],
   "source": [
    "legs = [marshall, watkins, davids, estes, roberts, moran, clay, wagner, luetkemeyer, hartzler, cleaver, graves, long, smith, blunt, hawley]\n",
    "conts = []"
   ]
  },
  {
   "cell_type": "code",
   "execution_count": 5,
   "metadata": {},
   "outputs": [],
   "source": [
    "for l in legs:\n",
    "    for i, r in l.iterrows():\n",
    "        if r['contributor'] not in conts:\n",
    "            conts.append(r['contributor'])"
   ]
  },
  {
   "cell_type": "code",
   "execution_count": 6,
   "metadata": {},
   "outputs": [],
   "source": [
    "processed_dict = {'candidate':[], 'party':[]}\n",
    "candidate_hold = []\n",
    "party_hold = []\n",
    "for i, r in ks_leg.iterrows():\n",
    "    candidate_hold.append(r['legislator'])\n",
    "    party_hold.append(r['party'])\n",
    "for i, r in mo_leg.iterrows():\n",
    "    candidate_hold.append(r['legislator'])\n",
    "    party_hold.append(r['party'])\n",
    "for i in conts:\n",
    "    processed_dict[i] = []"
   ]
  },
  {
   "cell_type": "code",
   "execution_count": 7,
   "metadata": {},
   "outputs": [],
   "source": [
    "processed_df = pd.DataFrame(processed_dict)"
   ]
  },
  {
   "cell_type": "code",
   "execution_count": 8,
   "metadata": {
    "scrolled": true
   },
   "outputs": [],
   "source": [
    "place = 0\n",
    "for l in legs:\n",
    "    conts_bin = [candidate_hold[place], party_hold[place]]\n",
    "    for i in conts:\n",
    "        conts_bin.append(0)\n",
    "    for i, r in l.iterrows():\n",
    "        index = 2\n",
    "        for d in conts:\n",
    "            if r['contributor'] == d:\n",
    "                conts_bin[index] = 1\n",
    "            index += 1\n",
    "    place +=1\n",
    "    l_series = pd.Series(conts_bin, index = processed_df.columns)\n",
    "    processed_df = processed_df.append(l_series, ignore_index = True)"
   ]
  },
  {
   "cell_type": "code",
   "execution_count": 9,
   "metadata": {},
   "outputs": [],
   "source": [
    "processed_df.to_csv('../../resources/processed_data.csv')"
   ]
  },
  {
   "cell_type": "code",
   "execution_count": null,
   "metadata": {},
   "outputs": [],
   "source": []
  }
 ],
 "metadata": {
  "kernelspec": {
   "display_name": "Python 3",
   "language": "python",
   "name": "python3"
  },
  "language_info": {
   "codemirror_mode": {
    "name": "ipython",
    "version": 3
   },
   "file_extension": ".py",
   "mimetype": "text/x-python",
   "name": "python",
   "nbconvert_exporter": "python",
   "pygments_lexer": "ipython3",
   "version": "3.8.5"
  }
 },
 "nbformat": 4,
 "nbformat_minor": 4
}
