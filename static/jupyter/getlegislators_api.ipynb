{
 "cells": [
  {
   "cell_type": "code",
   "execution_count": 8,
   "metadata": {},
   "outputs": [],
   "source": [
    "import pandas as pd\n",
    "import requests\n",
    "import json\n",
    "from config import api_key"
   ]
  },
  {
   "cell_type": "code",
   "execution_count": 9,
   "metadata": {},
   "outputs": [],
   "source": [
    "state = 'KS'\n",
    "url = f'https://www.opensecrets.org/api/?method=getLegislators&id={state}&apikey={api_key}&output=json'"
   ]
  },
  {
   "cell_type": "code",
   "execution_count": 10,
   "metadata": {},
   "outputs": [],
   "source": [
    "response = requests.get(url).json()"
   ]
  },
  {
   "cell_type": "code",
   "execution_count": 11,
   "metadata": {},
   "outputs": [
    {
     "data": {
      "text/plain": [
       "{'@attributes': {'cid': 'N00037034',\n",
       "  'firstlast': 'Roger Marshall',\n",
       "  'lastname': 'Marshall',\n",
       "  'party': 'R',\n",
       "  'office': 'KS01',\n",
       "  'gender': 'M',\n",
       "  'first_elected': '2016',\n",
       "  'exit_code': '15',\n",
       "  'comments': 'Running for Senate',\n",
       "  'phone': '202-225-2715',\n",
       "  'fax': '',\n",
       "  'website': 'https://marshall.house.gov',\n",
       "  'webform': '',\n",
       "  'congress_office': '312 Cannon House Office Building',\n",
       "  'bioguide_id': 'M001198',\n",
       "  'votesmart_id': '',\n",
       "  'feccandid': '',\n",
       "  'twitter_id': 'rogermarshallmd',\n",
       "  'youtube_url': '',\n",
       "  'facebook_id': 'rogermarshallmd',\n",
       "  'birthdate': '1960-08-09'}}"
      ]
     },
     "execution_count": 11,
     "metadata": {},
     "output_type": "execute_result"
    }
   ],
   "source": [
    "response['response']['legislator'][0]"
   ]
  },
  {
   "cell_type": "code",
   "execution_count": 15,
   "metadata": {},
   "outputs": [],
   "source": [
    "legislators = response['response']['legislator']\n",
    "leg_dict = {'legislator':[],\n",
    "     'party':[],\n",
    "     'birthdate':[],\n",
    "           'cid':[],\n",
    "           'comments':[]}"
   ]
  },
  {
   "cell_type": "code",
   "execution_count": 16,
   "metadata": {},
   "outputs": [],
   "source": [
    "for i in legislators:\n",
    "    leg_dict['legislator'].append(i['@attributes']['firstlast'])\n",
    "    leg_dict['party'].append(i['@attributes']['party'])\n",
    "    leg_dict['birthdate'].append(i['@attributes']['birthdate'])\n",
    "    leg_dict['cid'].append(i['@attributes']['cid'])\n",
    "    leg_dict['comments'].append(i['@attributes']['comments'])"
   ]
  },
  {
   "cell_type": "code",
   "execution_count": 17,
   "metadata": {},
   "outputs": [
    {
     "data": {
      "text/html": [
       "<div>\n",
       "<style scoped>\n",
       "    .dataframe tbody tr th:only-of-type {\n",
       "        vertical-align: middle;\n",
       "    }\n",
       "\n",
       "    .dataframe tbody tr th {\n",
       "        vertical-align: top;\n",
       "    }\n",
       "\n",
       "    .dataframe thead th {\n",
       "        text-align: right;\n",
       "    }\n",
       "</style>\n",
       "<table border=\"1\" class=\"dataframe\">\n",
       "  <thead>\n",
       "    <tr style=\"text-align: right;\">\n",
       "      <th></th>\n",
       "      <th>legislator</th>\n",
       "      <th>party</th>\n",
       "      <th>birthdate</th>\n",
       "      <th>cid</th>\n",
       "      <th>comments</th>\n",
       "    </tr>\n",
       "  </thead>\n",
       "  <tbody>\n",
       "    <tr>\n",
       "      <th>0</th>\n",
       "      <td>Roger Marshall</td>\n",
       "      <td>R</td>\n",
       "      <td>1960-08-09</td>\n",
       "      <td>N00037034</td>\n",
       "      <td>Running for Senate</td>\n",
       "    </tr>\n",
       "    <tr>\n",
       "      <th>1</th>\n",
       "      <td>Steve Watkins</td>\n",
       "      <td>R</td>\n",
       "      <td>1976-09-18</td>\n",
       "      <td>N00042126</td>\n",
       "      <td>Lost primary</td>\n",
       "    </tr>\n",
       "    <tr>\n",
       "      <th>2</th>\n",
       "      <td>Sharice Davids</td>\n",
       "      <td>D</td>\n",
       "      <td>1980-05-22</td>\n",
       "      <td>N00042626</td>\n",
       "      <td></td>\n",
       "    </tr>\n",
       "    <tr>\n",
       "      <th>3</th>\n",
       "      <td>Ron Estes</td>\n",
       "      <td>R</td>\n",
       "      <td>1956-07-19</td>\n",
       "      <td>N00040712</td>\n",
       "      <td></td>\n",
       "    </tr>\n",
       "    <tr>\n",
       "      <th>4</th>\n",
       "      <td>Pat Roberts</td>\n",
       "      <td>R</td>\n",
       "      <td>1936-04-20</td>\n",
       "      <td>N00005285</td>\n",
       "      <td>Retiring at end of 116th</td>\n",
       "    </tr>\n",
       "    <tr>\n",
       "      <th>5</th>\n",
       "      <td>Jerry Moran</td>\n",
       "      <td>R</td>\n",
       "      <td>1954-05-29</td>\n",
       "      <td>N00005282</td>\n",
       "      <td></td>\n",
       "    </tr>\n",
       "  </tbody>\n",
       "</table>\n",
       "</div>"
      ],
      "text/plain": [
       "       legislator party   birthdate        cid                  comments\n",
       "0  Roger Marshall     R  1960-08-09  N00037034        Running for Senate\n",
       "1   Steve Watkins     R  1976-09-18  N00042126              Lost primary\n",
       "2  Sharice Davids     D  1980-05-22  N00042626                          \n",
       "3       Ron Estes     R  1956-07-19  N00040712                          \n",
       "4     Pat Roberts     R  1936-04-20  N00005285  Retiring at end of 116th\n",
       "5     Jerry Moran     R  1954-05-29  N00005282                          "
      ]
     },
     "execution_count": 17,
     "metadata": {},
     "output_type": "execute_result"
    }
   ],
   "source": [
    "df = pd.DataFrame(leg_dict)\n",
    "df"
   ]
  },
  {
   "cell_type": "code",
   "execution_count": 18,
   "metadata": {},
   "outputs": [],
   "source": [
    "df.to_csv('../../resources/getlegislators_ks.csv')"
   ]
  },
  {
   "cell_type": "code",
   "execution_count": 19,
   "metadata": {},
   "outputs": [],
   "source": [
    "state = 'MO'\n",
    "url = f'https://www.opensecrets.org/api/?method=getLegislators&id={state}&apikey={api_key}&output=json'\n",
    "response = requests.get(url).json()"
   ]
  },
  {
   "cell_type": "code",
   "execution_count": 20,
   "metadata": {},
   "outputs": [],
   "source": [
    "legislators = response['response']['legislator']\n",
    "leg_dict = {'legislator':[],\n",
    "     'party':[],\n",
    "     'birthdate':[],\n",
    "           'cid':[],\n",
    "           'comments':[]}"
   ]
  },
  {
   "cell_type": "code",
   "execution_count": 21,
   "metadata": {},
   "outputs": [],
   "source": [
    "for i in legislators:\n",
    "    leg_dict['legislator'].append(i['@attributes']['firstlast'])\n",
    "    leg_dict['party'].append(i['@attributes']['party'])\n",
    "    leg_dict['birthdate'].append(i['@attributes']['birthdate'])\n",
    "    leg_dict['cid'].append(i['@attributes']['cid'])\n",
    "    leg_dict['comments'].append(i['@attributes']['comments'])"
   ]
  },
  {
   "cell_type": "code",
   "execution_count": 22,
   "metadata": {},
   "outputs": [
    {
     "data": {
      "text/html": [
       "<div>\n",
       "<style scoped>\n",
       "    .dataframe tbody tr th:only-of-type {\n",
       "        vertical-align: middle;\n",
       "    }\n",
       "\n",
       "    .dataframe tbody tr th {\n",
       "        vertical-align: top;\n",
       "    }\n",
       "\n",
       "    .dataframe thead th {\n",
       "        text-align: right;\n",
       "    }\n",
       "</style>\n",
       "<table border=\"1\" class=\"dataframe\">\n",
       "  <thead>\n",
       "    <tr style=\"text-align: right;\">\n",
       "      <th></th>\n",
       "      <th>legislator</th>\n",
       "      <th>party</th>\n",
       "      <th>birthdate</th>\n",
       "      <th>cid</th>\n",
       "      <th>comments</th>\n",
       "    </tr>\n",
       "  </thead>\n",
       "  <tbody>\n",
       "    <tr>\n",
       "      <th>0</th>\n",
       "      <td>William L Clay Jr.</td>\n",
       "      <td>D</td>\n",
       "      <td>1956-07-27</td>\n",
       "      <td>N00012460</td>\n",
       "      <td>Lost primary</td>\n",
       "    </tr>\n",
       "    <tr>\n",
       "      <th>1</th>\n",
       "      <td>Ann L Wagner</td>\n",
       "      <td>R</td>\n",
       "      <td>1962-09-13</td>\n",
       "      <td>N00033106</td>\n",
       "      <td></td>\n",
       "    </tr>\n",
       "    <tr>\n",
       "      <th>2</th>\n",
       "      <td>Blaine Luetkemeyer</td>\n",
       "      <td>R</td>\n",
       "      <td>1952-05-07</td>\n",
       "      <td>N00030026</td>\n",
       "      <td></td>\n",
       "    </tr>\n",
       "    <tr>\n",
       "      <th>3</th>\n",
       "      <td>Vicky Hartzler</td>\n",
       "      <td>R</td>\n",
       "      <td>1960-10-13</td>\n",
       "      <td>N00031005</td>\n",
       "      <td></td>\n",
       "    </tr>\n",
       "    <tr>\n",
       "      <th>4</th>\n",
       "      <td>Emanuel Cleaver</td>\n",
       "      <td>D</td>\n",
       "      <td>1944-10-26</td>\n",
       "      <td>N00026790</td>\n",
       "      <td></td>\n",
       "    </tr>\n",
       "    <tr>\n",
       "      <th>5</th>\n",
       "      <td>Sam Graves</td>\n",
       "      <td>R</td>\n",
       "      <td>1963-11-07</td>\n",
       "      <td>N00013323</td>\n",
       "      <td></td>\n",
       "    </tr>\n",
       "    <tr>\n",
       "      <th>6</th>\n",
       "      <td>Billy Long</td>\n",
       "      <td>R</td>\n",
       "      <td>1955-08-11</td>\n",
       "      <td>N00030676</td>\n",
       "      <td></td>\n",
       "    </tr>\n",
       "    <tr>\n",
       "      <th>7</th>\n",
       "      <td>Jason Smith</td>\n",
       "      <td>R</td>\n",
       "      <td>1980-06-16</td>\n",
       "      <td>N00035282</td>\n",
       "      <td></td>\n",
       "    </tr>\n",
       "    <tr>\n",
       "      <th>8</th>\n",
       "      <td>Roy Blunt</td>\n",
       "      <td>R</td>\n",
       "      <td>1950-01-10</td>\n",
       "      <td>N00005195</td>\n",
       "      <td></td>\n",
       "    </tr>\n",
       "    <tr>\n",
       "      <th>9</th>\n",
       "      <td>Josh Hawley</td>\n",
       "      <td>R</td>\n",
       "      <td>1979-12-31</td>\n",
       "      <td>N00041620</td>\n",
       "      <td></td>\n",
       "    </tr>\n",
       "  </tbody>\n",
       "</table>\n",
       "</div>"
      ],
      "text/plain": [
       "           legislator party   birthdate        cid      comments\n",
       "0  William L Clay Jr.     D  1956-07-27  N00012460  Lost primary\n",
       "1        Ann L Wagner     R  1962-09-13  N00033106              \n",
       "2  Blaine Luetkemeyer     R  1952-05-07  N00030026              \n",
       "3      Vicky Hartzler     R  1960-10-13  N00031005              \n",
       "4     Emanuel Cleaver     D  1944-10-26  N00026790              \n",
       "5          Sam Graves     R  1963-11-07  N00013323              \n",
       "6          Billy Long     R  1955-08-11  N00030676              \n",
       "7         Jason Smith     R  1980-06-16  N00035282              \n",
       "8           Roy Blunt     R  1950-01-10  N00005195              \n",
       "9         Josh Hawley     R  1979-12-31  N00041620              "
      ]
     },
     "execution_count": 22,
     "metadata": {},
     "output_type": "execute_result"
    }
   ],
   "source": [
    "df = pd.DataFrame(leg_dict)\n",
    "df"
   ]
  },
  {
   "cell_type": "code",
   "execution_count": 23,
   "metadata": {},
   "outputs": [],
   "source": [
    "df.to_csv('../../resources/getlegislators_mo.csv')"
   ]
  },
  {
   "cell_type": "code",
   "execution_count": null,
   "metadata": {},
   "outputs": [],
   "source": []
  }
 ],
 "metadata": {
  "kernelspec": {
   "display_name": "Python 3",
   "language": "python",
   "name": "python3"
  },
  "language_info": {
   "codemirror_mode": {
    "name": "ipython",
    "version": 3
   },
   "file_extension": ".py",
   "mimetype": "text/x-python",
   "name": "python",
   "nbconvert_exporter": "python",
   "pygments_lexer": "ipython3",
   "version": "3.8.5"
  }
 },
 "nbformat": 4,
 "nbformat_minor": 4
}
